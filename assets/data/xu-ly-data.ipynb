{
 "cells": [
  {
   "cell_type": "code",
   "execution_count": 2,
   "metadata": {},
   "outputs": [],
   "source": [
    "import numpy as np\n",
    "import pandas as pd\n",
    "\n",
    "dir = \"D:/Java/data-oriented-java-project/assets/data/covid_data_cleaned.csv\"\n",
    "df = pd.read_csv(dir)"
   ]
  },
  {
   "cell_type": "code",
   "execution_count": 6,
   "metadata": {},
   "outputs": [
    {
     "data": {
      "text/html": [
       "<div>\n",
       "<style scoped>\n",
       "    .dataframe tbody tr th:only-of-type {\n",
       "        vertical-align: middle;\n",
       "    }\n",
       "\n",
       "    .dataframe tbody tr th {\n",
       "        vertical-align: top;\n",
       "    }\n",
       "\n",
       "    .dataframe thead th {\n",
       "        text-align: right;\n",
       "    }\n",
       "</style>\n",
       "<table border=\"1\" class=\"dataframe\">\n",
       "  <thead>\n",
       "    <tr style=\"text-align: right;\">\n",
       "      <th></th>\n",
       "      <th>total_vaccinations</th>\n",
       "      <th>total_boosters</th>\n",
       "    </tr>\n",
       "  </thead>\n",
       "  <tbody>\n",
       "    <tr>\n",
       "      <th>0</th>\n",
       "      <td>NaN</td>\n",
       "      <td>NaN</td>\n",
       "    </tr>\n",
       "    <tr>\n",
       "      <th>1</th>\n",
       "      <td>NaN</td>\n",
       "      <td>NaN</td>\n",
       "    </tr>\n",
       "    <tr>\n",
       "      <th>2</th>\n",
       "      <td>NaN</td>\n",
       "      <td>NaN</td>\n",
       "    </tr>\n",
       "    <tr>\n",
       "      <th>3</th>\n",
       "      <td>NaN</td>\n",
       "      <td>NaN</td>\n",
       "    </tr>\n",
       "    <tr>\n",
       "      <th>4</th>\n",
       "      <td>NaN</td>\n",
       "      <td>NaN</td>\n",
       "    </tr>\n",
       "    <tr>\n",
       "      <th>...</th>\n",
       "      <td>...</td>\n",
       "      <td>...</td>\n",
       "    </tr>\n",
       "    <tr>\n",
       "      <th>183578</th>\n",
       "      <td>10304899.0</td>\n",
       "      <td>772567.0</td>\n",
       "    </tr>\n",
       "    <tr>\n",
       "      <th>183579</th>\n",
       "      <td>10313861.0</td>\n",
       "      <td>774513.0</td>\n",
       "    </tr>\n",
       "    <tr>\n",
       "      <th>183580</th>\n",
       "      <td>10320810.0</td>\n",
       "      <td>777630.0</td>\n",
       "    </tr>\n",
       "    <tr>\n",
       "      <th>183581</th>\n",
       "      <td>10329879.0</td>\n",
       "      <td>780747.0</td>\n",
       "    </tr>\n",
       "    <tr>\n",
       "      <th>183582</th>\n",
       "      <td>NaN</td>\n",
       "      <td>NaN</td>\n",
       "    </tr>\n",
       "  </tbody>\n",
       "</table>\n",
       "<p>183583 rows × 2 columns</p>\n",
       "</div>"
      ],
      "text/plain": [
       "        total_vaccinations  total_boosters\n",
       "0                      NaN             NaN\n",
       "1                      NaN             NaN\n",
       "2                      NaN             NaN\n",
       "3                      NaN             NaN\n",
       "4                      NaN             NaN\n",
       "...                    ...             ...\n",
       "183578          10304899.0        772567.0\n",
       "183579          10313861.0        774513.0\n",
       "183580          10320810.0        777630.0\n",
       "183581          10329879.0        780747.0\n",
       "183582                 NaN             NaN\n",
       "\n",
       "[183583 rows x 2 columns]"
      ]
     },
     "execution_count": 6,
     "metadata": {},
     "output_type": "execute_result"
    }
   ],
   "source": [
    "df[['total_vaccinations','total_boosters']]"
   ]
  },
  {
   "cell_type": "code",
   "execution_count": 11,
   "metadata": {},
   "outputs": [
    {
     "name": "stdout",
     "output_type": "stream",
     "text": [
      "iso_code\n",
      "False    183583\n",
      "Name: iso_code, dtype: int64\n",
      "\n",
      "continent\n",
      "False    172860\n",
      "True      10723\n",
      "Name: continent, dtype: int64\n",
      "\n",
      "location\n",
      "False    183583\n",
      "Name: location, dtype: int64\n",
      "\n",
      "date\n",
      "False    183583\n",
      "Name: date, dtype: int64\n",
      "\n",
      "total_cases\n",
      "False    183583\n",
      "Name: total_cases, dtype: int64\n",
      "\n",
      "new_cases\n",
      "False    183583\n",
      "Name: new_cases, dtype: int64\n",
      "\n",
      "total_deaths\n",
      "False    158534\n",
      "True      25049\n",
      "Name: total_deaths, dtype: int64\n",
      "\n",
      "new_deaths\n",
      "False    158507\n",
      "True      25076\n",
      "Name: new_deaths, dtype: int64\n",
      "\n",
      "total_vaccinations\n",
      "True     133572\n",
      "False     50011\n",
      "Name: total_vaccinations, dtype: int64\n",
      "\n",
      "people_vaccinated\n",
      "True     136019\n",
      "False     47564\n",
      "Name: people_vaccinated, dtype: int64\n",
      "\n",
      "people_fully_vaccinated\n",
      "True     138517\n",
      "False     45066\n",
      "Name: people_fully_vaccinated, dtype: int64\n",
      "\n",
      "total_boosters\n",
      "True     161152\n",
      "False     22431\n",
      "Name: total_boosters, dtype: int64\n",
      "\n",
      "new_vaccinations\n",
      "True     142523\n",
      "False     41060\n",
      "Name: new_vaccinations, dtype: int64\n",
      "\n"
     ]
    }
   ],
   "source": [
    "missing_data = df.isnull()\n",
    "for column in missing_data.columns.values.tolist():\n",
    "    print(column)\n",
    "    print(missing_data[column].value_counts())\n",
    "    print(\"\")\n"
   ]
  },
  {
   "cell_type": "code",
   "execution_count": null,
   "metadata": {},
   "outputs": [],
   "source": [
    "df.fillna()"
   ]
  },
  {
   "cell_type": "code",
   "execution_count": 10,
   "metadata": {},
   "outputs": [],
   "source": [
    "df.to_csv(\"C:/Users/BTD/Desktop/temp-data.csv\")\n"
   ]
  }
 ],
 "metadata": {
  "interpreter": {
   "hash": "11938c6bc6919ae2720b4d5011047913343b08a43b18698fd82dedb0d4417594"
  },
  "kernelspec": {
   "display_name": "Python 3.9.8 64-bit",
   "language": "python",
   "name": "python3"
  },
  "language_info": {
   "codemirror_mode": {
    "name": "ipython",
    "version": 3
   },
   "file_extension": ".py",
   "mimetype": "text/x-python",
   "name": "python",
   "nbconvert_exporter": "python",
   "pygments_lexer": "ipython3",
   "version": "3.9.8"
  },
  "orig_nbformat": 4
 },
 "nbformat": 4,
 "nbformat_minor": 2
}
