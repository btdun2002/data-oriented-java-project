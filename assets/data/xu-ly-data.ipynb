{
 "cells": [
  {
   "cell_type": "markdown",
   "metadata": {},
   "source": [
    "Load .csv to df"
   ]
  },
  {
   "cell_type": "code",
   "execution_count": 65,
   "metadata": {},
   "outputs": [],
   "source": [
    "import numpy as np\n",
    "import pandas as pd\n",
    "\n",
    "dir = \"input_covid_data.csv\"\n",
    "df = pd.read_csv(dir)"
   ]
  },
  {
   "cell_type": "code",
   "execution_count": 66,
   "metadata": {},
   "outputs": [
    {
     "name": "stdout",
     "output_type": "stream",
     "text": [
      "Index(['iso_code', 'continent', 'location', 'date', 'total_cases', 'new_cases',\n",
      "       'total_deaths', 'new_deaths', 'total_vaccinations', 'people_vaccinated',\n",
      "       'people_fully_vaccinated', 'total_boosters', 'new_vaccinations'],\n",
      "      dtype='object')\n",
      "13\n"
     ]
    }
   ],
   "source": [
    "print(df.columns)\n",
    "print(len(df.columns))\n"
   ]
  },
  {
   "cell_type": "code",
   "execution_count": 67,
   "metadata": {},
   "outputs": [
    {
     "name": "stdout",
     "output_type": "stream",
     "text": [
      "14\n"
     ]
    }
   ],
   "source": [
    "const_df = df[['iso_code', 'continent', 'location', 'date']]\n",
    "fill0_df = df[['new_cases', 'new_deaths', 'new_vaccinations']]\n",
    "ffill_df = df[['location', 'total_cases', 'total_deaths', 'people_vaccinated',\n",
    "               'people_fully_vaccinated',\n",
    "               'total_vaccinations', 'total_boosters']]\n",
    "print(len(const_df.columns)+len(fill0_df.columns)+len(ffill_df.columns))"
   ]
  },
  {
   "cell_type": "markdown",
   "metadata": {},
   "source": [
    "Define functions"
   ]
  },
  {
   "cell_type": "code",
   "execution_count": 68,
   "metadata": {},
   "outputs": [],
   "source": [
    "def what_is_missing(local_df):\n",
    "    missing_data = local_df.isnull()\n",
    "    for column in missing_data.columns.values.tolist():\n",
    "        print(column)\n",
    "        print(missing_data[column].value_counts())\n",
    "        print(\"\")\n"
   ]
  },
  {
   "cell_type": "code",
   "execution_count": 69,
   "metadata": {},
   "outputs": [
    {
     "name": "stderr",
     "output_type": "stream",
     "text": [
      "c:\\Program Files\\Python39\\lib\\site-packages\\pandas\\core\\frame.py:5176: SettingWithCopyWarning: \n",
      "A value is trying to be set on a copy of a slice from a DataFrame\n",
      "\n",
      "See the caveats in the documentation: https://pandas.pydata.org/pandas-docs/stable/user_guide/indexing.html#returning-a-view-versus-a-copy\n",
      "  return super().fillna(\n"
     ]
    }
   ],
   "source": [
    "fill0_df.fillna(0,inplace = True)"
   ]
  },
  {
   "cell_type": "code",
   "execution_count": 70,
   "metadata": {},
   "outputs": [
    {
     "name": "stdout",
     "output_type": "stream",
     "text": [
      "3\n",
      "4\n",
      "5\n",
      "6\n"
     ]
    }
   ],
   "source": [
    "# ffill_df.iloc[1,3:7] = 0\n",
    "# np.isnan(ffill_df.iloc[2,3])\n",
    "for i in range(3,7):\n",
    "    print(i)"
   ]
  },
  {
   "cell_type": "code",
   "execution_count": 71,
   "metadata": {},
   "outputs": [
    {
     "name": "stderr",
     "output_type": "stream",
     "text": [
      "c:\\Program Files\\Python39\\lib\\site-packages\\pandas\\core\\indexing.py:1817: SettingWithCopyWarning: \n",
      "A value is trying to be set on a copy of a slice from a DataFrame.\n",
      "Try using .loc[row_indexer,col_indexer] = value instead\n",
      "\n",
      "See the caveats in the documentation: https://pandas.pydata.org/pandas-docs/stable/user_guide/indexing.html#returning-a-view-versus-a-copy\n",
      "  self._setitem_single_column(loc, value, pi)\n"
     ]
    }
   ],
   "source": [
    "for i in range(ffill_df.shape[0]-1):\n",
    "    if(ffill_df.iloc[i,0:1].values != ffill_df.iloc[i+1,0:1].values):\n",
    "        for j in range(3,7):\n",
    "            if(np.isnan(ffill_df.iloc[i, j])):\n",
    "                ffill_df.iloc[i,j] = 0\n",
    "ffill_df.iloc[0,3:7] = 0"
   ]
  },
  {
   "cell_type": "code",
   "execution_count": 72,
   "metadata": {},
   "outputs": [],
   "source": [
    "ffill_df.fillna(method='ffill',inplace = True)\n"
   ]
  },
  {
   "cell_type": "code",
   "execution_count": 73,
   "metadata": {},
   "outputs": [
    {
     "name": "stdout",
     "output_type": "stream",
     "text": [
      "iso_code\n",
      "False    183583\n",
      "Name: iso_code, dtype: int64\n",
      "\n",
      "continent\n",
      "False    172860\n",
      "True      10723\n",
      "Name: continent, dtype: int64\n",
      "\n",
      "location\n",
      "False    183583\n",
      "Name: location, dtype: int64\n",
      "\n",
      "date\n",
      "False    183583\n",
      "Name: date, dtype: int64\n",
      "\n"
     ]
    }
   ],
   "source": [
    "what_is_missing(const_df)"
   ]
  },
  {
   "cell_type": "code",
   "execution_count": 74,
   "metadata": {},
   "outputs": [
    {
     "name": "stdout",
     "output_type": "stream",
     "text": [
      "new_cases\n",
      "False    183583\n",
      "Name: new_cases, dtype: int64\n",
      "\n",
      "new_deaths\n",
      "False    183583\n",
      "Name: new_deaths, dtype: int64\n",
      "\n",
      "new_vaccinations\n",
      "False    183583\n",
      "Name: new_vaccinations, dtype: int64\n",
      "\n"
     ]
    }
   ],
   "source": [
    "what_is_missing(fill0_df)"
   ]
  },
  {
   "cell_type": "code",
   "execution_count": 75,
   "metadata": {},
   "outputs": [
    {
     "name": "stdout",
     "output_type": "stream",
     "text": [
      "location\n",
      "False    183583\n",
      "Name: location, dtype: int64\n",
      "\n",
      "total_cases\n",
      "False    183583\n",
      "Name: total_cases, dtype: int64\n",
      "\n",
      "total_deaths\n",
      "False    183583\n",
      "Name: total_deaths, dtype: int64\n",
      "\n",
      "people_vaccinated\n",
      "False    183583\n",
      "Name: people_vaccinated, dtype: int64\n",
      "\n",
      "people_fully_vaccinated\n",
      "False    183583\n",
      "Name: people_fully_vaccinated, dtype: int64\n",
      "\n",
      "total_vaccinations\n",
      "False    183583\n",
      "Name: total_vaccinations, dtype: int64\n",
      "\n",
      "total_boosters\n",
      "False    183583\n",
      "Name: total_boosters, dtype: int64\n",
      "\n"
     ]
    }
   ],
   "source": [
    "what_is_missing(ffill_df)"
   ]
  },
  {
   "cell_type": "code",
   "execution_count": 76,
   "metadata": {},
   "outputs": [],
   "source": [
    "df[['new_cases', 'new_deaths', 'new_vaccinations']] = fill0_df[[\n",
    "    'new_cases', 'new_deaths', 'new_vaccinations']]\n",
    "df[['location', 'total_cases', 'total_deaths', 'people_vaccinated',\n",
    "    'people_fully_vaccinated',\n",
    "    'total_vaccinations', 'total_boosters']] = ffill_df[['location', 'total_cases', 'total_deaths', 'people_vaccinated',\n",
    "                                                         'people_fully_vaccinated',\n",
    "                                                         'total_vaccinations', 'total_boosters']]\n"
   ]
  },
  {
   "cell_type": "code",
   "execution_count": 77,
   "metadata": {},
   "outputs": [
    {
     "data": {
      "text/html": [
       "<div>\n",
       "<style scoped>\n",
       "    .dataframe tbody tr th:only-of-type {\n",
       "        vertical-align: middle;\n",
       "    }\n",
       "\n",
       "    .dataframe tbody tr th {\n",
       "        vertical-align: top;\n",
       "    }\n",
       "\n",
       "    .dataframe thead th {\n",
       "        text-align: right;\n",
       "    }\n",
       "</style>\n",
       "<table border=\"1\" class=\"dataframe\">\n",
       "  <thead>\n",
       "    <tr style=\"text-align: right;\">\n",
       "      <th></th>\n",
       "      <th>iso_code</th>\n",
       "      <th>continent</th>\n",
       "      <th>location</th>\n",
       "      <th>date</th>\n",
       "      <th>total_cases</th>\n",
       "      <th>new_cases</th>\n",
       "      <th>total_deaths</th>\n",
       "      <th>new_deaths</th>\n",
       "      <th>total_vaccinations</th>\n",
       "      <th>people_vaccinated</th>\n",
       "      <th>people_fully_vaccinated</th>\n",
       "      <th>total_boosters</th>\n",
       "      <th>new_vaccinations</th>\n",
       "    </tr>\n",
       "  </thead>\n",
       "  <tbody>\n",
       "    <tr>\n",
       "      <th>0</th>\n",
       "      <td>AFG</td>\n",
       "      <td>Asia</td>\n",
       "      <td>Afghanistan</td>\n",
       "      <td>24-02-20</td>\n",
       "      <td>5</td>\n",
       "      <td>5</td>\n",
       "      <td>0.0</td>\n",
       "      <td>0.0</td>\n",
       "      <td>0.0</td>\n",
       "      <td>0.0</td>\n",
       "      <td>0.0</td>\n",
       "      <td>0.0</td>\n",
       "      <td>0.0</td>\n",
       "    </tr>\n",
       "    <tr>\n",
       "      <th>1</th>\n",
       "      <td>AFG</td>\n",
       "      <td>Asia</td>\n",
       "      <td>Afghanistan</td>\n",
       "      <td>25-02-20</td>\n",
       "      <td>5</td>\n",
       "      <td>0</td>\n",
       "      <td>0.0</td>\n",
       "      <td>0.0</td>\n",
       "      <td>0.0</td>\n",
       "      <td>0.0</td>\n",
       "      <td>0.0</td>\n",
       "      <td>0.0</td>\n",
       "      <td>0.0</td>\n",
       "    </tr>\n",
       "    <tr>\n",
       "      <th>2</th>\n",
       "      <td>AFG</td>\n",
       "      <td>Asia</td>\n",
       "      <td>Afghanistan</td>\n",
       "      <td>26-02-20</td>\n",
       "      <td>5</td>\n",
       "      <td>0</td>\n",
       "      <td>0.0</td>\n",
       "      <td>0.0</td>\n",
       "      <td>0.0</td>\n",
       "      <td>0.0</td>\n",
       "      <td>0.0</td>\n",
       "      <td>0.0</td>\n",
       "      <td>0.0</td>\n",
       "    </tr>\n",
       "    <tr>\n",
       "      <th>3</th>\n",
       "      <td>AFG</td>\n",
       "      <td>Asia</td>\n",
       "      <td>Afghanistan</td>\n",
       "      <td>27-02-20</td>\n",
       "      <td>5</td>\n",
       "      <td>0</td>\n",
       "      <td>0.0</td>\n",
       "      <td>0.0</td>\n",
       "      <td>0.0</td>\n",
       "      <td>0.0</td>\n",
       "      <td>0.0</td>\n",
       "      <td>0.0</td>\n",
       "      <td>0.0</td>\n",
       "    </tr>\n",
       "    <tr>\n",
       "      <th>4</th>\n",
       "      <td>AFG</td>\n",
       "      <td>Asia</td>\n",
       "      <td>Afghanistan</td>\n",
       "      <td>28-02-20</td>\n",
       "      <td>5</td>\n",
       "      <td>0</td>\n",
       "      <td>0.0</td>\n",
       "      <td>0.0</td>\n",
       "      <td>0.0</td>\n",
       "      <td>0.0</td>\n",
       "      <td>0.0</td>\n",
       "      <td>0.0</td>\n",
       "      <td>0.0</td>\n",
       "    </tr>\n",
       "    <tr>\n",
       "      <th>...</th>\n",
       "      <td>...</td>\n",
       "      <td>...</td>\n",
       "      <td>...</td>\n",
       "      <td>...</td>\n",
       "      <td>...</td>\n",
       "      <td>...</td>\n",
       "      <td>...</td>\n",
       "      <td>...</td>\n",
       "      <td>...</td>\n",
       "      <td>...</td>\n",
       "      <td>...</td>\n",
       "      <td>...</td>\n",
       "      <td>...</td>\n",
       "    </tr>\n",
       "    <tr>\n",
       "      <th>183578</th>\n",
       "      <td>ZWE</td>\n",
       "      <td>Africa</td>\n",
       "      <td>Zimbabwe</td>\n",
       "      <td>29-04-22</td>\n",
       "      <td>247842</td>\n",
       "      <td>58</td>\n",
       "      <td>5469.0</td>\n",
       "      <td>0.0</td>\n",
       "      <td>10304899.0</td>\n",
       "      <td>5864940.0</td>\n",
       "      <td>3667392.0</td>\n",
       "      <td>772567.0</td>\n",
       "      <td>19472.0</td>\n",
       "    </tr>\n",
       "    <tr>\n",
       "      <th>183579</th>\n",
       "      <td>ZWE</td>\n",
       "      <td>Africa</td>\n",
       "      <td>Zimbabwe</td>\n",
       "      <td>30-04-22</td>\n",
       "      <td>247875</td>\n",
       "      <td>33</td>\n",
       "      <td>5469.0</td>\n",
       "      <td>0.0</td>\n",
       "      <td>10313861.0</td>\n",
       "      <td>5866832.0</td>\n",
       "      <td>3672516.0</td>\n",
       "      <td>774513.0</td>\n",
       "      <td>8962.0</td>\n",
       "    </tr>\n",
       "    <tr>\n",
       "      <th>183580</th>\n",
       "      <td>ZWE</td>\n",
       "      <td>Africa</td>\n",
       "      <td>Zimbabwe</td>\n",
       "      <td>01-05-22</td>\n",
       "      <td>247911</td>\n",
       "      <td>36</td>\n",
       "      <td>5469.0</td>\n",
       "      <td>0.0</td>\n",
       "      <td>10320810.0</td>\n",
       "      <td>5867908.0</td>\n",
       "      <td>3675272.0</td>\n",
       "      <td>777630.0</td>\n",
       "      <td>6949.0</td>\n",
       "    </tr>\n",
       "    <tr>\n",
       "      <th>183581</th>\n",
       "      <td>ZWE</td>\n",
       "      <td>Africa</td>\n",
       "      <td>Zimbabwe</td>\n",
       "      <td>02-05-22</td>\n",
       "      <td>247935</td>\n",
       "      <td>24</td>\n",
       "      <td>5470.0</td>\n",
       "      <td>1.0</td>\n",
       "      <td>10329879.0</td>\n",
       "      <td>5870126.0</td>\n",
       "      <td>3679006.0</td>\n",
       "      <td>780747.0</td>\n",
       "      <td>9069.0</td>\n",
       "    </tr>\n",
       "    <tr>\n",
       "      <th>183582</th>\n",
       "      <td>ZWE</td>\n",
       "      <td>Africa</td>\n",
       "      <td>Zimbabwe</td>\n",
       "      <td>03-05-22</td>\n",
       "      <td>247990</td>\n",
       "      <td>55</td>\n",
       "      <td>5470.0</td>\n",
       "      <td>0.0</td>\n",
       "      <td>10329879.0</td>\n",
       "      <td>5870126.0</td>\n",
       "      <td>3679006.0</td>\n",
       "      <td>780747.0</td>\n",
       "      <td>0.0</td>\n",
       "    </tr>\n",
       "  </tbody>\n",
       "</table>\n",
       "<p>183583 rows × 13 columns</p>\n",
       "</div>"
      ],
      "text/plain": [
       "       iso_code continent     location      date  total_cases  new_cases  \\\n",
       "0           AFG      Asia  Afghanistan  24-02-20            5          5   \n",
       "1           AFG      Asia  Afghanistan  25-02-20            5          0   \n",
       "2           AFG      Asia  Afghanistan  26-02-20            5          0   \n",
       "3           AFG      Asia  Afghanistan  27-02-20            5          0   \n",
       "4           AFG      Asia  Afghanistan  28-02-20            5          0   \n",
       "...         ...       ...          ...       ...          ...        ...   \n",
       "183578      ZWE    Africa     Zimbabwe  29-04-22       247842         58   \n",
       "183579      ZWE    Africa     Zimbabwe  30-04-22       247875         33   \n",
       "183580      ZWE    Africa     Zimbabwe  01-05-22       247911         36   \n",
       "183581      ZWE    Africa     Zimbabwe  02-05-22       247935         24   \n",
       "183582      ZWE    Africa     Zimbabwe  03-05-22       247990         55   \n",
       "\n",
       "        total_deaths  new_deaths  total_vaccinations  people_vaccinated  \\\n",
       "0                0.0         0.0                 0.0                0.0   \n",
       "1                0.0         0.0                 0.0                0.0   \n",
       "2                0.0         0.0                 0.0                0.0   \n",
       "3                0.0         0.0                 0.0                0.0   \n",
       "4                0.0         0.0                 0.0                0.0   \n",
       "...              ...         ...                 ...                ...   \n",
       "183578        5469.0         0.0          10304899.0          5864940.0   \n",
       "183579        5469.0         0.0          10313861.0          5866832.0   \n",
       "183580        5469.0         0.0          10320810.0          5867908.0   \n",
       "183581        5470.0         1.0          10329879.0          5870126.0   \n",
       "183582        5470.0         0.0          10329879.0          5870126.0   \n",
       "\n",
       "        people_fully_vaccinated  total_boosters  new_vaccinations  \n",
       "0                           0.0             0.0               0.0  \n",
       "1                           0.0             0.0               0.0  \n",
       "2                           0.0             0.0               0.0  \n",
       "3                           0.0             0.0               0.0  \n",
       "4                           0.0             0.0               0.0  \n",
       "...                         ...             ...               ...  \n",
       "183578                3667392.0        772567.0           19472.0  \n",
       "183579                3672516.0        774513.0            8962.0  \n",
       "183580                3675272.0        777630.0            6949.0  \n",
       "183581                3679006.0        780747.0            9069.0  \n",
       "183582                3679006.0        780747.0               0.0  \n",
       "\n",
       "[183583 rows x 13 columns]"
      ]
     },
     "execution_count": 77,
     "metadata": {},
     "output_type": "execute_result"
    }
   ],
   "source": [
    "df"
   ]
  },
  {
   "cell_type": "code",
   "execution_count": 78,
   "metadata": {},
   "outputs": [
    {
     "name": "stdout",
     "output_type": "stream",
     "text": [
      "iso_code\n",
      "False    183583\n",
      "Name: iso_code, dtype: int64\n",
      "\n",
      "continent\n",
      "False    172860\n",
      "True      10723\n",
      "Name: continent, dtype: int64\n",
      "\n",
      "location\n",
      "False    183583\n",
      "Name: location, dtype: int64\n",
      "\n",
      "date\n",
      "False    183583\n",
      "Name: date, dtype: int64\n",
      "\n",
      "total_cases\n",
      "False    183583\n",
      "Name: total_cases, dtype: int64\n",
      "\n",
      "new_cases\n",
      "False    183583\n",
      "Name: new_cases, dtype: int64\n",
      "\n",
      "total_deaths\n",
      "False    183583\n",
      "Name: total_deaths, dtype: int64\n",
      "\n",
      "new_deaths\n",
      "False    183583\n",
      "Name: new_deaths, dtype: int64\n",
      "\n",
      "total_vaccinations\n",
      "False    183583\n",
      "Name: total_vaccinations, dtype: int64\n",
      "\n",
      "people_vaccinated\n",
      "False    183583\n",
      "Name: people_vaccinated, dtype: int64\n",
      "\n",
      "people_fully_vaccinated\n",
      "False    183583\n",
      "Name: people_fully_vaccinated, dtype: int64\n",
      "\n",
      "total_boosters\n",
      "False    183583\n",
      "Name: total_boosters, dtype: int64\n",
      "\n",
      "new_vaccinations\n",
      "False    183583\n",
      "Name: new_vaccinations, dtype: int64\n",
      "\n"
     ]
    }
   ],
   "source": [
    "what_is_missing(df)"
   ]
  },
  {
   "cell_type": "code",
   "execution_count": 79,
   "metadata": {},
   "outputs": [],
   "source": [
    "df.to_csv(\"output_covid_data.csv\")"
   ]
  }
 ],
 "metadata": {
  "interpreter": {
   "hash": "11938c6bc6919ae2720b4d5011047913343b08a43b18698fd82dedb0d4417594"
  },
  "kernelspec": {
   "display_name": "Python 3.9.8 64-bit",
   "language": "python",
   "name": "python3"
  },
  "language_info": {
   "codemirror_mode": {
    "name": "ipython",
    "version": 3
   },
   "file_extension": ".py",
   "mimetype": "text/x-python",
   "name": "python",
   "nbconvert_exporter": "python",
   "pygments_lexer": "ipython3",
   "version": "3.9.8"
  },
  "orig_nbformat": 4
 },
 "nbformat": 4,
 "nbformat_minor": 2
}
