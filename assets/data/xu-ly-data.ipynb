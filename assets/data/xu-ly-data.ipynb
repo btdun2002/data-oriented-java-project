{
 "cells": [
  {
   "cell_type": "markdown",
   "metadata": {},
   "source": [
    "Load .csv to df"
   ]
  },
  {
   "cell_type": "code",
   "execution_count": 1,
   "metadata": {},
   "outputs": [],
   "source": [
    "import numpy as np\n",
    "import pandas as pd\n",
    "\n",
    "dir = \"input_covid_data.csv\"\n",
    "df = pd.read_csv(dir)"
   ]
  },
  {
   "cell_type": "code",
   "execution_count": 10,
   "metadata": {},
   "outputs": [
    {
     "name": "stdout",
     "output_type": "stream",
     "text": [
      "Index(['iso_code', 'continent', 'location', 'date', 'total_cases', 'new_cases',\n",
      "       'total_deaths', 'new_deaths', 'total_vaccinations', 'people_vaccinated',\n",
      "       'people_fully_vaccinated', 'total_boosters', 'new_vaccinations'],\n",
      "      dtype='object')\n",
      "13\n"
     ]
    }
   ],
   "source": [
    "print(df.columns)\n",
    "print(len(df.columns))\n"
   ]
  },
  {
   "cell_type": "code",
   "execution_count": 11,
   "metadata": {},
   "outputs": [
    {
     "name": "stdout",
     "output_type": "stream",
     "text": [
      "13\n"
     ]
    }
   ],
   "source": [
    "const_df = df[['iso_code', 'continent', 'location', 'date']]\n",
    "fill0_df = df[['new_cases', 'new_deaths', 'new_vaccinations']]\n",
    "ffill_df = df[['total_cases', 'total_deaths', 'people_vaccinated',\n",
    "               'people_fully_vaccinated',\n",
    "               'total_vaccinations', 'total_boosters']]\n",
    "print(len(const_df.columns)+len(fill0_df.columns)+len(ffill_df.columns))\n"
   ]
  },
  {
   "cell_type": "markdown",
   "metadata": {},
   "source": [
    "Define functions"
   ]
  },
  {
   "cell_type": "code",
   "execution_count": 2,
   "metadata": {},
   "outputs": [],
   "source": [
    "def what_is_missing(local_df):\n",
    "    missing_data = local_df.isnull()\n",
    "    for column in missing_data.columns.values.tolist():\n",
    "        print(column)\n",
    "        print(missing_data[column].value_counts())\n",
    "        print(\"\")\n"
   ]
  },
  {
   "cell_type": "code",
   "execution_count": 3,
   "metadata": {},
   "outputs": [
    {
     "name": "stdout",
     "output_type": "stream",
     "text": [
      "iso_code\n",
      "False    183583\n",
      "Name: iso_code, dtype: int64\n",
      "\n",
      "continent\n",
      "False    172860\n",
      "True      10723\n",
      "Name: continent, dtype: int64\n",
      "\n",
      "location\n",
      "False    183583\n",
      "Name: location, dtype: int64\n",
      "\n",
      "date\n",
      "False    183583\n",
      "Name: date, dtype: int64\n",
      "\n",
      "total_cases\n",
      "False    183583\n",
      "Name: total_cases, dtype: int64\n",
      "\n",
      "new_cases\n",
      "False    183583\n",
      "Name: new_cases, dtype: int64\n",
      "\n",
      "total_deaths\n",
      "False    158534\n",
      "True      25049\n",
      "Name: total_deaths, dtype: int64\n",
      "\n",
      "new_deaths\n",
      "False    158507\n",
      "True      25076\n",
      "Name: new_deaths, dtype: int64\n",
      "\n",
      "total_vaccinations\n",
      "True     133572\n",
      "False     50011\n",
      "Name: total_vaccinations, dtype: int64\n",
      "\n",
      "people_vaccinated\n",
      "True     136019\n",
      "False     47564\n",
      "Name: people_vaccinated, dtype: int64\n",
      "\n",
      "people_fully_vaccinated\n",
      "True     138517\n",
      "False     45066\n",
      "Name: people_fully_vaccinated, dtype: int64\n",
      "\n",
      "total_boosters\n",
      "True     161152\n",
      "False     22431\n",
      "Name: total_boosters, dtype: int64\n",
      "\n",
      "new_vaccinations\n",
      "True     142523\n",
      "False     41060\n",
      "Name: new_vaccinations, dtype: int64\n",
      "\n"
     ]
    }
   ],
   "source": [
    "what_is_missing(df)"
   ]
  },
  {
   "cell_type": "code",
   "execution_count": 5,
   "metadata": {},
   "outputs": [],
   "source": [
    "df.to_csv(\"output_covid_data.csv\")"
   ]
  }
 ],
 "metadata": {
  "interpreter": {
   "hash": "11938c6bc6919ae2720b4d5011047913343b08a43b18698fd82dedb0d4417594"
  },
  "kernelspec": {
   "display_name": "Python 3.9.8 64-bit",
   "language": "python",
   "name": "python3"
  },
  "language_info": {
   "codemirror_mode": {
    "name": "ipython",
    "version": 3
   },
   "file_extension": ".py",
   "mimetype": "text/x-python",
   "name": "python",
   "nbconvert_exporter": "python",
   "pygments_lexer": "ipython3",
   "version": "3.9.8"
  },
  "orig_nbformat": 4
 },
 "nbformat": 4,
 "nbformat_minor": 2
}
