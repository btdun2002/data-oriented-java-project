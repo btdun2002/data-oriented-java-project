{
 "cells": [
  {
   "cell_type": "markdown",
   "metadata": {},
   "source": [
    "Load .csv to df"
   ]
  },
  {
   "cell_type": "code",
   "execution_count": 1,
   "metadata": {},
   "outputs": [],
   "source": [
    "import numpy as np\n",
    "import pandas as pd\n",
    "\n",
    "dir = \"covid_data_cleaned.csv\"\n",
    "df = pd.read_csv(dir)"
   ]
  },
  {
   "cell_type": "markdown",
   "metadata": {},
   "source": [
    "Define functions"
   ]
  },
  {
   "cell_type": "code",
   "execution_count": 2,
   "metadata": {},
   "outputs": [],
   "source": [
    "def what_is_missing(local_df):\n",
    "    missing_data = local_df.isnull()\n",
    "    for column in missing_data.columns.values.tolist():\n",
    "        print(column)\n",
    "        print(missing_data[column].value_counts())\n",
    "        print(\"\")\n"
   ]
  },
  {
   "cell_type": "code",
   "execution_count": 3,
   "metadata": {},
   "outputs": [
    {
     "name": "stdout",
     "output_type": "stream",
     "text": [
      "total_vaccinations\n",
      "True     133572\n",
      "False     50011\n",
      "Name: total_vaccinations, dtype: int64\n",
      "\n",
      "total_boosters\n",
      "True     161152\n",
      "False     22431\n",
      "Name: total_boosters, dtype: int64\n",
      "\n"
     ]
    }
   ],
   "source": [
    "what_is_missing(df[['total_vaccinations','total_boosters']])"
   ]
  },
  {
   "cell_type": "code",
   "execution_count": 4,
   "metadata": {},
   "outputs": [],
   "source": [
    "df.to_csv(\"temp-coivd.csv\")"
   ]
  }
 ],
 "metadata": {
  "kernelspec": {
   "display_name": "Python 3.9.12 ('python-scripts-env')",
   "language": "python",
   "name": "python3"
  },
  "language_info": {
   "codemirror_mode": {
    "name": "ipython",
    "version": 3
   },
   "file_extension": ".py",
   "mimetype": "text/x-python",
   "name": "python",
   "nbconvert_exporter": "python",
   "pygments_lexer": "ipython3",
   "version": "3.9.12"
  },
  "orig_nbformat": 4,
  "vscode": {
   "interpreter": {
    "hash": "f9159191855460f9f5319b132221c7cc2c3fae90527e23ae5cec4bda9813acad"
   }
  }
 },
 "nbformat": 4,
 "nbformat_minor": 2
}
