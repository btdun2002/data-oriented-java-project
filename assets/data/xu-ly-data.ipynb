{
 "cells": [
  {
   "cell_type": "markdown",
   "metadata": {},
   "source": [
    "Load .csv to df"
   ]
  },
  {
   "cell_type": "code",
   "execution_count": 13,
   "metadata": {},
   "outputs": [],
   "source": [
    "import numpy as np\n",
    "import pandas as pd\n",
    "\n",
    "dir = \"input_covid_data.csv\"\n",
    "df = pd.read_csv(dir)"
   ]
  },
  {
   "cell_type": "code",
   "execution_count": 14,
   "metadata": {},
   "outputs": [
    {
     "name": "stdout",
     "output_type": "stream",
     "text": [
      "Index(['iso_code', 'continent', 'location', 'date', 'total_cases', 'new_cases',\n",
      "       'total_deaths', 'new_deaths', 'total_vaccinations', 'people_vaccinated',\n",
      "       'people_fully_vaccinated', 'total_boosters', 'new_vaccinations'],\n",
      "      dtype='object')\n",
      "13\n"
     ]
    }
   ],
   "source": [
    "print(df.columns)\n",
    "print(len(df.columns))\n"
   ]
  },
  {
   "cell_type": "code",
   "execution_count": 15,
   "metadata": {},
   "outputs": [
    {
     "name": "stdout",
     "output_type": "stream",
     "text": [
      "13\n"
     ]
    }
   ],
   "source": [
    "const_df = df[['iso_code', 'continent', 'location', 'date']]\n",
    "fill0_df = df[['new_cases', 'new_deaths', 'new_vaccinations']]\n",
    "ffill_df = df[['total_cases', 'total_deaths', 'people_vaccinated',\n",
    "               'people_fully_vaccinated',\n",
    "               'total_vaccinations', 'total_boosters']]\n",
    "print(len(const_df.columns)+len(fill0_df.columns)+len(ffill_df.columns))\n"
   ]
  },
  {
   "cell_type": "markdown",
   "metadata": {},
   "source": [
    "Define functions"
   ]
  },
  {
   "cell_type": "code",
   "execution_count": 16,
   "metadata": {},
   "outputs": [],
   "source": [
    "def what_is_missing(local_df):\n",
    "    missing_data = local_df.isnull()\n",
    "    for column in missing_data.columns.values.tolist():\n",
    "        print(column)\n",
    "        print(missing_data[column].value_counts())\n",
    "        print(\"\")\n"
   ]
  },
  {
   "cell_type": "code",
   "execution_count": 17,
   "metadata": {},
   "outputs": [
    {
     "data": {
      "text/html": [
       "<div>\n",
       "<style scoped>\n",
       "    .dataframe tbody tr th:only-of-type {\n",
       "        vertical-align: middle;\n",
       "    }\n",
       "\n",
       "    .dataframe tbody tr th {\n",
       "        vertical-align: top;\n",
       "    }\n",
       "\n",
       "    .dataframe thead th {\n",
       "        text-align: right;\n",
       "    }\n",
       "</style>\n",
       "<table border=\"1\" class=\"dataframe\">\n",
       "  <thead>\n",
       "    <tr style=\"text-align: right;\">\n",
       "      <th></th>\n",
       "      <th>new_cases</th>\n",
       "      <th>new_deaths</th>\n",
       "      <th>new_vaccinations</th>\n",
       "    </tr>\n",
       "  </thead>\n",
       "  <tbody>\n",
       "    <tr>\n",
       "      <th>0</th>\n",
       "      <td>5</td>\n",
       "      <td>0.0</td>\n",
       "      <td>NaN</td>\n",
       "    </tr>\n",
       "    <tr>\n",
       "      <th>1</th>\n",
       "      <td>0</td>\n",
       "      <td>0.0</td>\n",
       "      <td>NaN</td>\n",
       "    </tr>\n",
       "    <tr>\n",
       "      <th>2</th>\n",
       "      <td>0</td>\n",
       "      <td>0.0</td>\n",
       "      <td>NaN</td>\n",
       "    </tr>\n",
       "    <tr>\n",
       "      <th>3</th>\n",
       "      <td>0</td>\n",
       "      <td>0.0</td>\n",
       "      <td>NaN</td>\n",
       "    </tr>\n",
       "    <tr>\n",
       "      <th>4</th>\n",
       "      <td>0</td>\n",
       "      <td>0.0</td>\n",
       "      <td>NaN</td>\n",
       "    </tr>\n",
       "    <tr>\n",
       "      <th>...</th>\n",
       "      <td>...</td>\n",
       "      <td>...</td>\n",
       "      <td>...</td>\n",
       "    </tr>\n",
       "    <tr>\n",
       "      <th>183578</th>\n",
       "      <td>58</td>\n",
       "      <td>0.0</td>\n",
       "      <td>19472.0</td>\n",
       "    </tr>\n",
       "    <tr>\n",
       "      <th>183579</th>\n",
       "      <td>33</td>\n",
       "      <td>0.0</td>\n",
       "      <td>8962.0</td>\n",
       "    </tr>\n",
       "    <tr>\n",
       "      <th>183580</th>\n",
       "      <td>36</td>\n",
       "      <td>0.0</td>\n",
       "      <td>6949.0</td>\n",
       "    </tr>\n",
       "    <tr>\n",
       "      <th>183581</th>\n",
       "      <td>24</td>\n",
       "      <td>1.0</td>\n",
       "      <td>9069.0</td>\n",
       "    </tr>\n",
       "    <tr>\n",
       "      <th>183582</th>\n",
       "      <td>55</td>\n",
       "      <td>0.0</td>\n",
       "      <td>NaN</td>\n",
       "    </tr>\n",
       "  </tbody>\n",
       "</table>\n",
       "<p>183583 rows × 3 columns</p>\n",
       "</div>"
      ],
      "text/plain": [
       "        new_cases  new_deaths  new_vaccinations\n",
       "0               5         0.0               NaN\n",
       "1               0         0.0               NaN\n",
       "2               0         0.0               NaN\n",
       "3               0         0.0               NaN\n",
       "4               0         0.0               NaN\n",
       "...           ...         ...               ...\n",
       "183578         58         0.0           19472.0\n",
       "183579         33         0.0            8962.0\n",
       "183580         36         0.0            6949.0\n",
       "183581         24         1.0            9069.0\n",
       "183582         55         0.0               NaN\n",
       "\n",
       "[183583 rows x 3 columns]"
      ]
     },
     "execution_count": 17,
     "metadata": {},
     "output_type": "execute_result"
    }
   ],
   "source": [
    "fill0_df.fillna(0)\n",
    "fill0_df"
   ]
  },
  {
   "cell_type": "code",
   "execution_count": 18,
   "metadata": {},
   "outputs": [],
   "source": [
    "df.to_csv(\"output_covid_data.csv\")"
   ]
  }
 ],
 "metadata": {
  "interpreter": {
   "hash": "11938c6bc6919ae2720b4d5011047913343b08a43b18698fd82dedb0d4417594"
  },
  "kernelspec": {
   "display_name": "Python 3.9.8 64-bit",
   "language": "python",
   "name": "python3"
  },
  "language_info": {
   "codemirror_mode": {
    "name": "ipython",
    "version": 3
   },
   "file_extension": ".py",
   "mimetype": "text/x-python",
   "name": "python",
   "nbconvert_exporter": "python",
   "pygments_lexer": "ipython3",
   "version": "3.9.8"
  },
  "orig_nbformat": 4
 },
 "nbformat": 4,
 "nbformat_minor": 2
}
